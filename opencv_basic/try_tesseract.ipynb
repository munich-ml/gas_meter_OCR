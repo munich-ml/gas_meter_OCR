{
 "cells": [
  {
   "cell_type": "code",
   "execution_count": 1,
   "metadata": {},
   "outputs": [],
   "source": [
    "from PIL import Image\n",
    "import pytesseract\n",
    "import numpy as np\n",
    "import cv2 as cv"
   ]
  },
  {
   "cell_type": "code",
   "execution_count": 2,
   "metadata": {},
   "outputs": [],
   "source": [
    "def rescale_image(image, scale=0.75):\n",
    "    width = int(image.shape[1] * scale)\n",
    "    height = int(image.shape[0] * scale)\n",
    "    return cv.resize(image, (width, height), interpolation=cv.INTER_AREA)"
   ]
  },
  {
   "cell_type": "code",
   "execution_count": 3,
   "metadata": {},
   "outputs": [],
   "source": [
    "img_raw = cv.imread('gas_sample.jpg', cv.IMREAD_COLOR)\n",
    "start_point = (310, 740)\n",
    "end_point = (1800, 890)\n",
    "color = (0, 255, 0)\n",
    "thickness = 2\n",
    "img_rct = cv.rectangle(img_raw, start_point, end_point, color, thickness)\n",
    "img_mini = rescale_image(img_rct, 0.5)\n",
    "img_gray = cv.cvtColor(img_mini,cv.COLOR_BGR2GRAY)\n",
    "img_inv = cv.bitwise_not(img_gray)"
   ]
  },
  {
   "cell_type": "code",
   "execution_count": 4,
   "metadata": {},
   "outputs": [],
   "source": [
    "cv.imshow(\"image\", img_mini)\n",
    "cv.waitKey(0)\n",
    "cv.destroyAllWindows()"
   ]
  },
  {
   "cell_type": "code",
   "execution_count": 5,
   "metadata": {},
   "outputs": [
    {
     "name": "stdout",
     "output_type": "stream",
     "text": [
      "i\n",
      "\n",
      "Ce\n",
      "\n",
      "| Qmax 6 mh DE or ioe erzoot S WM 60 4| 399\n",
      "\n",
      "Qmin 0,04 mh Klas:\n",
      "\n",
      "gripe a\n",
      "\n",
      "V 2,0 dm* tm re ee\n",
      "Pmax 0,1bar\"T\" tg -10°C.\n",
      "\n",
      "Ib C€ [m4] [14] 6402 2014 . NG-4701BM0443 DIN en 1ssdbor qq\n",
      "0687 6/3 2149 m3\n",
      "\n",
      "\\ ORDER ie\n",
      "———————\n",
      "\n",
      "1 imp = 0,01m?\n",
      "\n",
      "\n"
     ]
    }
   ],
   "source": [
    "text = pytesseract.image_to_string(img_inv)\n",
    "print(text)\n"
   ]
  },
  {
   "cell_type": "code",
   "execution_count": 6,
   "metadata": {},
   "outputs": [
    {
     "name": "stdout",
     "output_type": "stream",
     "text": [
      "i\n",
      "\n",
      "Ce\n",
      "\n",
      "| Qmax 6 mh DE or ioe erzoot S WM 60 4| 399\n",
      "\n",
      "Qmin 0,04 mh Klas:\n",
      "\n",
      "gripe a\n",
      "\n",
      "V 2,0 dm* tm re ee\n",
      "Pmax 0,1bar\"T\" tg -10°C.\n",
      "\n",
      "Ib C€ [m4] [14] 6402 2014 . NG-4701BM0443 DIN en 1ssdbor qq\n",
      "0687 6/3 2149 m3\n",
      "\n",
      "\\ ORDER ie\n",
      "———————\n",
      "\n",
      "1 imp = 0,01m?\n",
      "\n",
      "\n"
     ]
    }
   ],
   "source": [
    "print(text)"
   ]
  },
  {
   "cell_type": "code",
   "execution_count": null,
   "metadata": {},
   "outputs": [],
   "source": []
  }
 ],
 "metadata": {
  "kernelspec": {
   "display_name": "Python 3.10.5 ('cv_env')",
   "language": "python",
   "name": "python3"
  },
  "language_info": {
   "codemirror_mode": {
    "name": "ipython",
    "version": 3
   },
   "file_extension": ".py",
   "mimetype": "text/x-python",
   "name": "python",
   "nbconvert_exporter": "python",
   "pygments_lexer": "ipython3",
   "version": "3.10.5"
  },
  "orig_nbformat": 4,
  "vscode": {
   "interpreter": {
    "hash": "e330d2aa18c78571c8c10719e56b3ceb66907a62b5ad9143d155ff4541405166"
   }
  }
 },
 "nbformat": 4,
 "nbformat_minor": 2
}
